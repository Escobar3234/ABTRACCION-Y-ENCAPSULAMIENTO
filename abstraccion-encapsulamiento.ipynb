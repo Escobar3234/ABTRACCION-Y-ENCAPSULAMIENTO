{
 "cells": [
  {
   "cell_type": "markdown",
   "metadata": {},
   "source": [
    "ABSTRACCION:\n",
    "Es lo que existe solo en idea, en consepto en la mente. En gramatica  es aquello que designan acciones,cualidades o estados, y que no tiene existencia fisica propia.\n"
   ]
  },
  {
   "cell_type": "markdown",
   "metadata": {},
   "source": [
    "ENCAPSULAMIENTO: \n",
    "Hace referencia a el ocultamiento de los estados internos de una clase interior."
   ]
  },
  {
   "cell_type": "code",
   "execution_count": null,
   "metadata": {},
   "outputs": [],
   "source": [
    "class Prueba():\n",
    "    def __init__(self):\n",
    "        self.__Privado=\" soy privado\"\n",
    "        self.publico=\"soy publico\"\n",
    "\n",
    "    def __metodoPrivado(self):\n",
    "        print(\"Soy un metodo privado\")\n",
    "\n",
    "    def metodoPublico(self):\n",
    "        print(\" soy un metodo publico\")\n",
    "ejemplo1=Prueba()\n",
    "ejemplo1.publico\n",
    "ejemplo1.__Privado"
   ]
  },
  {
   "cell_type": "markdown",
   "metadata": {},
   "source": [
    "ACCEDENTES Y  MUTADORES"
   ]
  },
  {
   "cell_type": "code",
   "execution_count": null,
   "metadata": {},
   "outputs": [],
   "source": [
    "class Prueba():\n",
    "    def __init__(self):\n",
    "        self.__Privado=\" soy privado\"\n",
    "        self.publico=\"soy publico\"\n",
    "\n",
    "    def __metodoPrivado(self):\n",
    "        print(\"Soy un metodo privado\")\n",
    "\n",
    "    def metodoPublico(self):\n",
    "        print(\" soy un metodo publico\")\n",
    "\n",
    "    def getPrivado(self):\n",
    "        return self.__Privado\n",
    "    def setPrivado(self,valor):\n",
    "        self.__Privado=valor\n",
    "ejemplo1=Prueba()\n",
    "ejemplo1.setPrivado (\"Era privado a hora soy publico\")\n",
    "ejemplo1.getPrivado()"
   ]
  }
 ],
 "metadata": {
  "kernelspec": {
   "display_name": "Python 3.10.6 64-bit",
   "language": "python",
   "name": "python3"
  },
  "language_info": {
   "name": "python",
   "version": "3.10.6"
  },
  "orig_nbformat": 4,
  "vscode": {
   "interpreter": {
    "hash": "213524bb45a1aeaf737b1d8c77d7b8db5d425938d9dffc5f4bc6fe6dd3324700"
   }
  }
 },
 "nbformat": 4,
 "nbformat_minor": 2
}
